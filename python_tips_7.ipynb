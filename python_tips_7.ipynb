{
 "cells": [
  {
   "cell_type": "markdown",
   "metadata": {},
   "source": [
    "# Python Tips 7"
   ]
  },
  {
   "cell_type": "markdown",
   "metadata": {},
   "source": [
    "author@snowhyzhang"
   ]
  },
  {
   "cell_type": "markdown",
   "metadata": {},
   "source": [
    "- [按条件跳过迭代器中的前一部分元素](#dropwhile)\n",
    "- [对多个有序序列进行合并，并且对整个有序序列进行迭代](#heapq_merge)\n",
    "- [计算字符串表达式](#eval_str)"
   ]
  },
  {
   "cell_type": "markdown",
   "metadata": {},
   "source": [
    "---\n",
    "<a name='dropwhile'>"
   ]
  },
  {
   "cell_type": "markdown",
   "metadata": {},
   "source": [
    "## 按条件跳过迭代器中的前一部分元素"
   ]
  },
  {
   "cell_type": "markdown",
   "metadata": {},
   "source": [
    "有时候，我们需要按照一定条件来过滤掉迭代器前一部分的元素，例如需要从第一个不小于5的数字开始迭代。这时，我们可以使用`itertools`模块中的`dropwhile`函数来实现"
   ]
  },
  {
   "cell_type": "code",
   "execution_count": 1,
   "metadata": {},
   "outputs": [
    {
     "name": "stdout",
     "output_type": "stream",
     "text": [
      "5 7 9 "
     ]
    }
   ],
   "source": [
    "from itertools import dropwhile\n",
    "\n",
    "# 定义一个简单的生成器函数\n",
    "def my_iter(l):\n",
    "    for e in l:\n",
    "        yield e\n",
    "\n",
    "it = my_iter([1, 3, 5, 7, 9])\n",
    "for e in dropwhile(lambda x: x < 5, it):\n",
    "    print(e, end=' ')"
   ]
  },
  {
   "cell_type": "markdown",
   "metadata": {},
   "source": [
    "我们可以向`dropwhile`函数中第一个参数传入一个`lambda`表达式，`dropwhile`函数自动丢弃迭代器中满足这个表达式的元素，直到遇见第一个不满足该表达式的元素，从这个数据开始迭代。"
   ]
  },
  {
   "cell_type": "markdown",
   "metadata": {},
   "source": [
    "需要注意的是，`dropwhile`只会跳过迭代器中__前一部分__元素，如果此迭代器后面的元素有不满足该表达式的，并不会过滤掉，例如"
   ]
  },
  {
   "cell_type": "code",
   "execution_count": 2,
   "metadata": {},
   "outputs": [
    {
     "name": "stdout",
     "output_type": "stream",
     "text": [
      "5 7 9 1 3 "
     ]
    }
   ],
   "source": [
    "it = my_iter([1, 3, 5, 7, 9, 1, 3])\n",
    "for e in dropwhile(lambda x: x < 5, it):\n",
    "    print(e, end=' ')"
   ]
  },
  {
   "cell_type": "markdown",
   "metadata": {},
   "source": [
    "如果只要想迭代器__所有__满足表达式的元素，那么我们可以使用`filter`函数"
   ]
  },
  {
   "cell_type": "code",
   "execution_count": 3,
   "metadata": {},
   "outputs": [
    {
     "name": "stdout",
     "output_type": "stream",
     "text": [
      "5 7 9 "
     ]
    }
   ],
   "source": [
    "it = my_iter([1, 3, 5, 7, 9, 1, 3])\n",
    "for e in filter(lambda x: x >= 5, it):\n",
    "    print(e, end=' ')"
   ]
  },
  {
   "cell_type": "markdown",
   "metadata": {},
   "source": [
    "---\n",
    "<a name='heapq_merge'>"
   ]
  },
  {
   "cell_type": "markdown",
   "metadata": {},
   "source": [
    "## 对多个有序序列进行合并，并且对整个有序序列进行迭代"
   ]
  },
  {
   "cell_type": "markdown",
   "metadata": {},
   "source": [
    "当有多个有序序列时，想要合并这些序列，并且使之成为一个有序序列进行迭代，这时，我们可以使用`heapq.merge`方法来完成这个任务"
   ]
  },
  {
   "cell_type": "code",
   "execution_count": 4,
   "metadata": {},
   "outputs": [
    {
     "name": "stdout",
     "output_type": "stream",
     "text": [
      "0 1 2 3 4 5 6 7 8 9 10 "
     ]
    }
   ],
   "source": [
    "import heapq\n",
    "\n",
    "l1 = [1, 3, 5, 7]\n",
    "l2 = [2, 4, 8, 10]\n",
    "l3 = [0, 6, 9]\n",
    "\n",
    "for e in heapq.merge(l1, l2, l3):\n",
    "    print(e, end=' ')"
   ]
  },
  {
   "cell_type": "markdown",
   "metadata": {},
   "source": [
    "需要注意的是传入`heapq.merge`方法中的序列必须是__有序__的，`heapq.merge`对输入序列本身并不会做任何检查"
   ]
  },
  {
   "cell_type": "markdown",
   "metadata": {},
   "source": [
    "---\n",
    "<a name='eval_str'>"
   ]
  },
  {
   "cell_type": "markdown",
   "metadata": {},
   "source": [
    "## 计算字符串表达式"
   ]
  },
  {
   "cell_type": "markdown",
   "metadata": {},
   "source": [
    "假设有一个字符串`'1 + 2 + 3'`，我们可以使用`eval`函数来计算其值"
   ]
  },
  {
   "cell_type": "code",
   "execution_count": 5,
   "metadata": {},
   "outputs": [
    {
     "data": {
      "text/plain": [
       "'1 + 2 + 3 = 6'"
      ]
     },
     "execution_count": 5,
     "metadata": {},
     "output_type": "execute_result"
    }
   ],
   "source": [
    "s = '1 + 2 + 3'\n",
    "'{} = {}'.format(s, eval(s))"
   ]
  },
  {
   "cell_type": "markdown",
   "metadata": {},
   "source": [
    "`eval`函数可以计算字符串表达式的值。使用`eval`函数带来的一个好处就是可以动态的产生代码，例如我们需要定义一个函数，其输入为两个变量名，而输出为这两个变量的和，这时使用`eval`可以方便地实现这个函数"
   ]
  },
  {
   "cell_type": "code",
   "execution_count": 6,
   "metadata": {},
   "outputs": [
    {
     "data": {
      "text/plain": [
       "30"
      ]
     },
     "execution_count": 6,
     "metadata": {},
     "output_type": "execute_result"
    }
   ],
   "source": [
    "x = 10\n",
    "y = 20\n",
    "\n",
    "def my_add(var1, var2):\n",
    "    return eval('{} + {}'.format(var1, var2))\n",
    "\n",
    "my_add('x', 'y')"
   ]
  }
 ],
 "metadata": {
  "kernelspec": {
   "display_name": "Python 3",
   "language": "python",
   "name": "python3"
  },
  "language_info": {
   "codemirror_mode": {
    "name": "ipython",
    "version": 3
   },
   "file_extension": ".py",
   "mimetype": "text/x-python",
   "name": "python",
   "nbconvert_exporter": "python",
   "pygments_lexer": "ipython3",
   "version": "3.6.3"
  }
 },
 "nbformat": 4,
 "nbformat_minor": 2
}
