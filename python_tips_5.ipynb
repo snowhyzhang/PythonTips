{
 "cells": [
  {
   "cell_type": "markdown",
   "metadata": {},
   "source": [
    "# Python Tip 5"
   ]
  },
  {
   "cell_type": "markdown",
   "metadata": {},
   "source": [
    "author@snowhyzhang"
   ]
  },
  {
   "cell_type": "markdown",
   "metadata": {},
   "source": [
    "- [对list进行滑动取值](#move_fetch)\n",
    "- [对多个list做笛卡尔积](#cartesian)\n",
    "- [list的copy和deepcopy](#list_copy)\n",
    "- [dict与lambda表达式相结合](#dict_lambda)"
   ]
  },
  {
   "cell_type": "markdown",
   "metadata": {},
   "source": [
    "---\n",
    "<a name='move_fetch'>"
   ]
  },
  {
   "cell_type": "markdown",
   "metadata": {},
   "source": [
    "## 对list进行滑动取值"
   ]
  },
  {
   "cell_type": "markdown",
   "metadata": {},
   "source": [
    "在序列分析中，设定一个窗口大小，滑动从`list`中的取值是常有操作，我们可以利用`zip`函数返回匹配的最短长度的特性，方便的从`list`中进行滑动取值"
   ]
  },
  {
   "cell_type": "code",
   "execution_count": 1,
   "metadata": {},
   "outputs": [
    {
     "name": "stdout",
     "output_type": "stream",
     "text": [
      "[(1, 2, 3), (2, 3, 4), (3, 4, 5), (4, 5, 6)]\n",
      "move avg: [2.0, 3.0, 4.0, 5.0]\n"
     ]
    }
   ],
   "source": [
    "def move_fetch(l, windows_size):\n",
    "    windows = [l[i:] for i in range(windows_size)]\n",
    "    return zip(*windows)\n",
    "\n",
    "l = [1, 2, 3, 4, 5, 6]\n",
    "move_list = list(move_fetch(l, 3))\n",
    "print(move_list)\n",
    "print('move avg:', [sum(x) / len(x) for x in move_list])"
   ]
  },
  {
   "cell_type": "markdown",
   "metadata": {},
   "source": [
    "---\n",
    "<a name='cartesian'>"
   ]
  },
  {
   "cell_type": "markdown",
   "metadata": {},
   "source": [
    "## 对多个list做笛卡尔积"
   ]
  },
  {
   "cell_type": "markdown",
   "metadata": {},
   "source": [
    "可以使用嵌套的列推导方式对两个`list`做笛卡尔积，例如"
   ]
  },
  {
   "cell_type": "code",
   "execution_count": 2,
   "metadata": {},
   "outputs": [
    {
     "data": {
      "text/plain": [
       "[(0, 10), (0, 11), (1, 10), (1, 11), (2, 10), (2, 11)]"
      ]
     },
     "execution_count": 2,
     "metadata": {},
     "output_type": "execute_result"
    }
   ],
   "source": [
    "l1 = [0, 1, 2]\n",
    "l2 = [10, 11]\n",
    "\n",
    "[(x, y) for x in l1 for y in l2]"
   ]
  },
  {
   "cell_type": "markdown",
   "metadata": {},
   "source": [
    "但如果有更多`list`一起做笛卡尔积的话，列推导方式的代码可读性会比较差，我们可以使用`itertools`模块中的`product`，可以方便的完成这个笛卡尔积"
   ]
  },
  {
   "cell_type": "code",
   "execution_count": 3,
   "metadata": {},
   "outputs": [
    {
     "name": "stdout",
     "output_type": "stream",
     "text": [
      "(0, 10, 100) (0, 10, 200) (0, 11, 100) (0, 11, 200) (1, 10, 100) (1, 10, 200) (1, 11, 100) (1, 11, 200) (2, 10, 100) (2, 10, 200) (2, 11, 100) (2, 11, 200) "
     ]
    }
   ],
   "source": [
    "from itertools import product\n",
    "\n",
    "l1 = [0, 1, 2]\n",
    "l2 = [10, 11]\n",
    "l3 = [100, 200]\n",
    "\n",
    "for p in product(l1, l2, l3):\n",
    "    print(p, end=' ')"
   ]
  },
  {
   "cell_type": "code",
   "execution_count": 4,
   "metadata": {},
   "outputs": [
    {
     "data": {
      "text/plain": [
       "['0-10-100',\n",
       " '0-10-200',\n",
       " '0-11-100',\n",
       " '0-11-200',\n",
       " '1-10-100',\n",
       " '1-10-200',\n",
       " '1-11-100',\n",
       " '1-11-200',\n",
       " '2-10-100',\n",
       " '2-10-200',\n",
       " '2-11-100',\n",
       " '2-11-200']"
      ]
     },
     "execution_count": 4,
     "metadata": {},
     "output_type": "execute_result"
    }
   ],
   "source": [
    "['{}-{}-{}'.format(*p) for p in product(l1, l2, l3)]"
   ]
  },
  {
   "cell_type": "markdown",
   "metadata": {},
   "source": [
    "---\n",
    "<a name='list_copy'>"
   ]
  },
  {
   "cell_type": "markdown",
   "metadata": {},
   "source": [
    "## list的copy和deepcopy"
   ]
  },
  {
   "cell_type": "markdown",
   "metadata": {},
   "source": [
    "`list`直接使用`=`来“复制”时，当修改其中一个`list`中的元素，“另一个”`list`也会受到影响"
   ]
  },
  {
   "cell_type": "code",
   "execution_count": 5,
   "metadata": {},
   "outputs": [
    {
     "data": {
      "text/plain": [
       "[100, 2, 3, 4, 5]"
      ]
     },
     "execution_count": 5,
     "metadata": {},
     "output_type": "execute_result"
    }
   ],
   "source": [
    "l1 = [1, 2, 3, 4, 5]\n",
    "l2 = l1\n",
    "l1[0] = 100\n",
    "l2"
   ]
  },
  {
   "cell_type": "markdown",
   "metadata": {},
   "source": [
    "这是由于变量`l1`和`l2`指向的是同一个`list`对象，因此，实际上对`list`的修改的是同一个`list`  \n",
    "我们可以调用`list`的`copy`方法，这样会对`list`进行一个复制"
   ]
  },
  {
   "cell_type": "code",
   "execution_count": 6,
   "metadata": {},
   "outputs": [
    {
     "data": {
      "text/plain": [
       "[1, 2, 3, 4, 5]"
      ]
     },
     "execution_count": 6,
     "metadata": {},
     "output_type": "execute_result"
    }
   ],
   "source": [
    "l1 = [1, 2, 3, 4, 5]\n",
    "l2 = l1.copy()\n",
    "l1[0] = 100\n",
    "l2"
   ]
  },
  {
   "cell_type": "markdown",
   "metadata": {},
   "source": [
    "但是如果是嵌套`list`，那么只调用`copy`方法是不够的"
   ]
  },
  {
   "cell_type": "code",
   "execution_count": 7,
   "metadata": {},
   "outputs": [
    {
     "data": {
      "text/plain": [
       "[[100, 2, 3], [4, 5, 6]]"
      ]
     },
     "execution_count": 7,
     "metadata": {},
     "output_type": "execute_result"
    }
   ],
   "source": [
    "l1 = [[1, 2, 3], [4, 5, 6]]\n",
    "l2 = l1.copy()\n",
    "l1[0][0] = 100\n",
    "l2"
   ]
  },
  {
   "cell_type": "markdown",
   "metadata": {},
   "source": [
    "这是由于`copy`方法只复制了第一层数据，如果是嵌套的话，那么里层指向的还是同一个`list`，这里我们需要`copy`模块中的`deepcopy`方法"
   ]
  },
  {
   "cell_type": "code",
   "execution_count": 8,
   "metadata": {},
   "outputs": [
    {
     "data": {
      "text/plain": [
       "[[1, 2, 3], [4, 5, 6]]"
      ]
     },
     "execution_count": 8,
     "metadata": {},
     "output_type": "execute_result"
    }
   ],
   "source": [
    "from copy import deepcopy\n",
    "l1 = [[1, 2, 3], [4, 5, 6]]\n",
    "l2 = deepcopy(l1)\n",
    "l1[0][0] = 100\n",
    "l2"
   ]
  },
  {
   "cell_type": "markdown",
   "metadata": {},
   "source": [
    "`deepcopy`会完全将`list`复制下来，因此数据比较大的时候，非常占用内存，需要小心使用"
   ]
  },
  {
   "cell_type": "markdown",
   "metadata": {},
   "source": [
    "---\n",
    "<a name='dict_lambda'>"
   ]
  },
  {
   "cell_type": "markdown",
   "metadata": {},
   "source": [
    "## dict与lambda表达式相结合"
   ]
  },
  {
   "cell_type": "markdown",
   "metadata": {},
   "source": [
    "有时候我们需要对不同的关键字做出不同的操作，如关键字为`increase`时，我们对输入数字加1；关键字为`decrease`，我们对输入数字减1，我们可以使用`if-else`结构来实现"
   ]
  },
  {
   "cell_type": "code",
   "execution_count": 9,
   "metadata": {},
   "outputs": [],
   "source": [
    "def my_op(op, x, y=None):\n",
    "    if op == 'increase':\n",
    "        return x + 1\n",
    "    elif op == 'decrease':\n",
    "        return x - 1\n",
    "    elif op == 'update':\n",
    "        return x + y + 1\n",
    "    elif op == 'swap':\n",
    "        return y, x\n",
    "    else:\n",
    "        print('No such op!')\n",
    "        return None"
   ]
  },
  {
   "cell_type": "markdown",
   "metadata": {},
   "source": [
    "但当有太多可判断的条件时，大量`if-else`结构并不利于代码的维护，并且无法进行动态的修改。这时我们可以使用`dict`与`lambda`表达式相结合的方式来实现这样的操作，这样可以动态的对`dict`做出改变"
   ]
  },
  {
   "cell_type": "code",
   "execution_count": 10,
   "metadata": {},
   "outputs": [],
   "source": [
    "op_switch = {\n",
    "    'increase': lambda x: x + 1,\n",
    "    'decrease': lambda x: x - 1,\n",
    "    'update': lambda x, y: x + y + 1,\n",
    "    'swap': lambda x, y: (y, x)\n",
    "}\n",
    "\n",
    "def my_op(op, *args):\n",
    "    # 新增/修改op\n",
    "    if op == 'add_op':\n",
    "        # 如果op是字符串形式，那么使用eval函数对字符串求值\n",
    "        if isinstance(args[1], str):\n",
    "            op = eval(args[1])\n",
    "        else:\n",
    "            op = args[1]\n",
    "        op_switch[args[0]] = op\n",
    "        print('added op...')\n",
    "        return None\n",
    "    # 判断op是否合法\n",
    "    if op not in op_switch.keys():\n",
    "        print('No such op!')\n",
    "        return None\n",
    "    return op_switch[op](*args)"
   ]
  },
  {
   "cell_type": "code",
   "execution_count": 11,
   "metadata": {},
   "outputs": [
    {
     "name": "stdout",
     "output_type": "stream",
     "text": [
      "increase:  2\n",
      "decrease:  0\n",
      "update:  4\n",
      "swap:  (2, 1)\n"
     ]
    }
   ],
   "source": [
    "print('increase: ', my_op('increase', 1))\n",
    "print('decrease: ', my_op('decrease', 1))\n",
    "print('update: ', my_op('update', 1, 2))\n",
    "print('swap: ', my_op('swap', 1, 2))"
   ]
  },
  {
   "cell_type": "markdown",
   "metadata": {},
   "source": [
    "删除`swap`"
   ]
  },
  {
   "cell_type": "code",
   "execution_count": 12,
   "metadata": {},
   "outputs": [
    {
     "name": "stdout",
     "output_type": "stream",
     "text": [
      "No such op!\n"
     ]
    }
   ],
   "source": [
    "del op_switch['swap']\n",
    "my_op('swap', 1, 2)"
   ]
  },
  {
   "cell_type": "markdown",
   "metadata": {},
   "source": [
    "新增`op`，这里lambda表达式使用的是字符串形式"
   ]
  },
  {
   "cell_type": "code",
   "execution_count": 13,
   "metadata": {},
   "outputs": [
    {
     "name": "stdout",
     "output_type": "stream",
     "text": [
      "added op...\n"
     ]
    },
    {
     "data": {
      "text/plain": [
       "0"
      ]
     },
     "execution_count": 13,
     "metadata": {},
     "output_type": "execute_result"
    }
   ],
   "source": [
    "# 设定新的操作\n",
    "my_new_op = ('relu', 'lambda x: max(0, x)')\n",
    "my_op('add_op', *my_new_op)\n",
    "my_op('relu', -10)"
   ]
  }
 ],
 "metadata": {
  "kernelspec": {
   "display_name": "Python 3",
   "language": "python",
   "name": "python3"
  },
  "language_info": {
   "codemirror_mode": {
    "name": "ipython",
    "version": 3
   },
   "file_extension": ".py",
   "mimetype": "text/x-python",
   "name": "python",
   "nbconvert_exporter": "python",
   "pygments_lexer": "ipython3",
   "version": "3.6.3"
  }
 },
 "nbformat": 4,
 "nbformat_minor": 2
}
