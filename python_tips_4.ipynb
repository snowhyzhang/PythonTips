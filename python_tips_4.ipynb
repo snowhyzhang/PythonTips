{
 "cells": [
  {
   "cell_type": "markdown",
   "metadata": {},
   "source": [
    "# Python Tips 4"
   ]
  },
  {
   "cell_type": "markdown",
   "metadata": {},
   "source": [
    "author@snowhyzhang"
   ]
  },
  {
   "cell_type": "markdown",
   "metadata": {},
   "source": [
    "- [迭代排列或组合](#per_comb)\n",
    "- [对不同容器中的元素进行迭代](#chain)\n",
    "- [固定函数参数值](#partial)"
   ]
  },
  {
   "cell_type": "markdown",
   "metadata": {},
   "source": [
    "---\n",
    "<a name='per_comb'>"
   ]
  },
  {
   "cell_type": "markdown",
   "metadata": {},
   "source": [
    "## 迭代排列或组合"
   ]
  },
  {
   "cell_type": "markdown",
   "metadata": {},
   "source": [
    "`itertools`模块中提供了几个与排列组合相关的函数，可以方便我们对一系列元素进行排列组合才做"
   ]
  },
  {
   "cell_type": "markdown",
   "metadata": {},
   "source": [
    "- 排列"
   ]
  },
  {
   "cell_type": "markdown",
   "metadata": {},
   "source": [
    "`permutations`函数接受一个元素集合和一个可选的长度作为参数，返回元组序列"
   ]
  },
  {
   "cell_type": "code",
   "execution_count": 1,
   "metadata": {},
   "outputs": [
    {
     "name": "stdout",
     "output_type": "stream",
     "text": [
      "全排列:\n",
      "('x', 'y', 'z');('x', 'z', 'y');('y', 'x', 'z');('y', 'z', 'x');('z', 'x', 'y');('z', 'y', 'x');\n",
      "长度为2的全排列:\n",
      "('x', 'y');('x', 'z');('y', 'x');('y', 'z');('z', 'x');('z', 'y');"
     ]
    }
   ],
   "source": [
    "from itertools import permutations\n",
    "\n",
    "l = ['x', 'y', 'z']\n",
    "print('全排列:')\n",
    "for e in permutations(l):\n",
    "    print(e, end=';')\n",
    "print('\\n长度为2的全排列:')\n",
    "for e in permutations(l, 2):\n",
    "    print(e, end=';')"
   ]
  },
  {
   "cell_type": "markdown",
   "metadata": {},
   "source": [
    "- 组合"
   ]
  },
  {
   "cell_type": "markdown",
   "metadata": {},
   "source": [
    "`combinations`函数同样接受一个元素集合，不过`combinations`需要指定长度"
   ]
  },
  {
   "cell_type": "code",
   "execution_count": 2,
   "metadata": {},
   "outputs": [
    {
     "name": "stdout",
     "output_type": "stream",
     "text": [
      "('x', 'y');('x', 'z');('y', 'z');"
     ]
    }
   ],
   "source": [
    "from itertools import combinations\n",
    "\n",
    "for e in combinations(l, 2):\n",
    "    print(e, end=';')"
   ]
  },
  {
   "cell_type": "markdown",
   "metadata": {},
   "source": [
    "`combinations`会将已经选择过的元素从候选元素中移除，因此`itertools`模块中还提供了`combinations_with_replacement`函数，这个函数允许相同的元素得到多次选择"
   ]
  },
  {
   "cell_type": "code",
   "execution_count": 3,
   "metadata": {},
   "outputs": [
    {
     "name": "stdout",
     "output_type": "stream",
     "text": [
      "('x', 'x');('x', 'y');('x', 'z');('y', 'y');('y', 'z');('z', 'z');"
     ]
    }
   ],
   "source": [
    "from itertools import combinations_with_replacement\n",
    "\n",
    "for e in combinations_with_replacement(l, 2):\n",
    "    print(e, end=';')"
   ]
  },
  {
   "cell_type": "markdown",
   "metadata": {},
   "source": [
    "---\n",
    "<a name='chain'>"
   ]
  },
  {
   "cell_type": "markdown",
   "metadata": {},
   "source": [
    "## 对不同容器中的元素进行迭代"
   ]
  },
  {
   "cell_type": "markdown",
   "metadata": {},
   "source": [
    "如果想要迭代的元素被放置在不同的容器中，例如被放置在2个`list`中，那么我们可以使用`itertools`中的`chain`函数来帮助我们的处理"
   ]
  },
  {
   "cell_type": "code",
   "execution_count": 4,
   "metadata": {},
   "outputs": [
    {
     "name": "stdout",
     "output_type": "stream",
     "text": [
      "1 2 3 4 5 10 20 30 40 50 "
     ]
    }
   ],
   "source": [
    "from itertools import chain\n",
    "\n",
    "l1 = [1, 2, 3, 4, 5]\n",
    "l2 = [10, 20, 30, 40, 50]\n",
    "\n",
    "for e in chain(l1, l2):\n",
    "    print(e, end=' ')"
   ]
  },
  {
   "cell_type": "markdown",
   "metadata": {},
   "source": [
    "`chain`接受一个多或多个`可迭代对象`作为参数，因此我们也可以将`list`和`set`一起进行迭代"
   ]
  },
  {
   "cell_type": "code",
   "execution_count": 5,
   "metadata": {},
   "outputs": [
    {
     "name": "stdout",
     "output_type": "stream",
     "text": [
      "1 2 3 4 5 10 20 30 40 50 100 200 300 400 500 "
     ]
    }
   ],
   "source": [
    "s1 = {100, 200, 300, 400, 500}\n",
    "for e in chain(l1, l2, s1):\n",
    "    print(e, end=' ')"
   ]
  },
  {
   "cell_type": "markdown",
   "metadata": {},
   "source": [
    "使用Python中`压包`技巧，对于元素是`list`的`list`的对象，我们可以方便的对`list`元素中的元素进行操作"
   ]
  },
  {
   "cell_type": "code",
   "execution_count": 6,
   "metadata": {},
   "outputs": [
    {
     "name": "stdout",
     "output_type": "stream",
     "text": [
      "1 2 3 40 50 60 700 800 900 "
     ]
    }
   ],
   "source": [
    "ll = [[1, 2, 3], [40, 50, 60], [700, 800, 900]]\n",
    "\n",
    "for e in chain(*ll):\n",
    "    print(e, end=' ')"
   ]
  },
  {
   "cell_type": "markdown",
   "metadata": {},
   "source": [
    "---\n",
    "<a name='partial'>"
   ]
  },
  {
   "cell_type": "markdown",
   "metadata": {},
   "source": [
    "### 固定函数参数值"
   ]
  },
  {
   "cell_type": "markdown",
   "metadata": {},
   "source": [
    "当一个函数拥有好几个参数，而我们想固定其中的几个参数，使其成为一个“新函数”来使用，这时我们可以使用`functools`模块中的`partial`函数，例如我们定义一个有3个参数值的函数，我们固定其中的一个参数"
   ]
  },
  {
   "cell_type": "code",
   "execution_count": 7,
   "metadata": {},
   "outputs": [
    {
     "name": "stdout",
     "output_type": "stream",
     "text": [
      "a@1 b@2 c@3\n"
     ]
    }
   ],
   "source": [
    "from functools import partial\n",
    "\n",
    "def f(a, b, c):\n",
    "    print('a@{} b@{} c@{}'.format(a, b, c))\n",
    "    \n",
    "# 参数a=1\n",
    "f2 = partial(f, 1)\n",
    "f2(2, 3)"
   ]
  },
  {
   "cell_type": "markdown",
   "metadata": {},
   "source": [
    "调用`f2`时，其函数参数输入相当于`1, 2, 3`，如果我们想要固定其他参数，特别是中间的参数，列如`b`，那么我们需要将`b`后面的参数按`关键字`参数进行传入"
   ]
  },
  {
   "cell_type": "code",
   "execution_count": 8,
   "metadata": {},
   "outputs": [
    {
     "name": "stdout",
     "output_type": "stream",
     "text": [
      "a@1 b@2 c@3\n",
      "a@1 b@2 c@3\n"
     ]
    }
   ],
   "source": [
    "f3 = partial(f, b=2)\n",
    "# f3(1, 3) 将会报错\n",
    "# b后面的参数必须使用关键字参数，如c=3\n",
    "f3(1, c=3)\n",
    "\n",
    "f4 = partial(f, c=3)\n",
    "f4(1, 2)"
   ]
  },
  {
   "cell_type": "markdown",
   "metadata": {},
   "source": [
    "固定函数的某个参数，有时候将会带来许多便利，例如我们定义一个计算两个坐标欧几里得距离的函数，随后固定某个点作，可以方便计算其他点到这个点的距离"
   ]
  },
  {
   "cell_type": "code",
   "execution_count": 9,
   "metadata": {},
   "outputs": [],
   "source": [
    "import math\n",
    "\n",
    "def dist(p1, p2):\n",
    "    x1, y1 = p1\n",
    "    x2, y2 = p2\n",
    "    return math.sqrt((x1 - x2)**2 + (y1 - y2)**2)"
   ]
  },
  {
   "cell_type": "markdown",
   "metadata": {},
   "source": [
    "接下来定义2个函数，分别计算输入的点到原点和点(1, 1)的距离"
   ]
  },
  {
   "cell_type": "code",
   "execution_count": 10,
   "metadata": {},
   "outputs": [
    {
     "name": "stdout",
     "output_type": "stream",
     "text": [
      "origin_dist: 1.58\n",
      "one_one_dist: 0.71\n",
      "[(1, 1), (2, 1), (2, 4), (3, 5), (1, 8)]\n"
     ]
    }
   ],
   "source": [
    "origin_dist = partial(dist, (0, 0))\n",
    "one_one_dist = partial(dist, (1, 1))\n",
    "\n",
    "test_point = (1.5, 0.5)\n",
    "print('origin_dist: {:.2f}'.format(origin_dist(test_point)))\n",
    "print('one_one_dist: {:.2f}'.format(one_one_dist(test_point)))\n",
    "\n",
    "# 对点按与原点距离排序\n",
    "test_points = ((1, 1), (3, 5), (2, 4), (1, 8), (2, 1))\n",
    "print(sorted(test_points, key=origin_dist))"
   ]
  }
 ],
 "metadata": {
  "kernelspec": {
   "display_name": "Python 3",
   "language": "python",
   "name": "python3"
  },
  "language_info": {
   "codemirror_mode": {
    "name": "ipython",
    "version": 3
   },
   "file_extension": ".py",
   "mimetype": "text/x-python",
   "name": "python",
   "nbconvert_exporter": "python",
   "pygments_lexer": "ipython3",
   "version": "3.6.3"
  }
 },
 "nbformat": 4,
 "nbformat_minor": 2
}
