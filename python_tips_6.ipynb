{
 "cells": [
  {
   "cell_type": "markdown",
   "metadata": {},
   "source": [
    "# Python Tips 6"
   ]
  },
  {
   "cell_type": "markdown",
   "metadata": {},
   "source": [
    "author@snowhyzhang"
   ]
  },
  {
   "cell_type": "markdown",
   "metadata": {},
   "source": [
    "- [扁平化列表](#flatten_list)\n",
    "- [带可变状态的生成器](#state_iter)\n",
    "- [对迭代器做切片](#islice)"
   ]
  },
  {
   "cell_type": "markdown",
   "metadata": {},
   "source": [
    "---\n",
    "<a name='faltten_list'>"
   ]
  },
  {
   "cell_type": "markdown",
   "metadata": {},
   "source": [
    "## 扁平化列表"
   ]
  },
  {
   "cell_type": "markdown",
   "metadata": {},
   "source": [
    "通过使用`yield from`语句结合递归的方法可以方便地实现扁平化列表"
   ]
  },
  {
   "cell_type": "code",
   "execution_count": 1,
   "metadata": {},
   "outputs": [
    {
     "name": "stdout",
     "output_type": "stream",
     "text": [
      "1 2 3 4 5 6 7 8 9 10 "
     ]
    }
   ],
   "source": [
    "def flatten_list(l):\n",
    "    for e in l:\n",
    "        if isinstance(e, list):\n",
    "            yield from flatten_list(e)\n",
    "        else:\n",
    "            yield e\n",
    "\n",
    "l = [[1, 2, 3, [4, 5]], [6, 7, [8, 9]], 10]\n",
    "for e in flatten_list(l):\n",
    "    print(e, end=' ')"
   ]
  },
  {
   "cell_type": "markdown",
   "metadata": {},
   "source": [
    "`yield from`是`Python`3.3开始出现的语法，其与`yield`的区别在于`yield from`可以将后面的可迭代对象中的每个元素一个一个的返回，而`yiled`则会返回整个可迭代对象，列如"
   ]
  },
  {
   "cell_type": "code",
   "execution_count": 2,
   "metadata": {},
   "outputs": [
    {
     "name": "stdout",
     "output_type": "stream",
     "text": [
      "[1, 2, 3] [4, 5, 6] \n",
      "1 2 3 4 5 6 "
     ]
    }
   ],
   "source": [
    "l = [[1, 2, 3], [4, 5, 6]]\n",
    "\n",
    "def test_yield(l):\n",
    "    for e in l:\n",
    "        yield e\n",
    "\n",
    "def test_yield_from(l):\n",
    "    for e in l:\n",
    "        yield from e\n",
    "        \n",
    "for e in test_yield(l):\n",
    "    print(e, end=' ')\n",
    "\n",
    "print()\n",
    "for e in test_yield_from(l):\n",
    "    print(e, end=' ')"
   ]
  },
  {
   "cell_type": "markdown",
   "metadata": {},
   "source": [
    "---\n",
    "<a name='state_iter'>"
   ]
  },
  {
   "cell_type": "markdown",
   "metadata": {},
   "source": [
    "## 带可变状态的生成器"
   ]
  },
  {
   "cell_type": "markdown",
   "metadata": {},
   "source": [
    "如果我们想要定义一个生成器，又希望能够改变该生成器中一些参数，例如我们定义一个返回`batch_size`数量的元素，其中，`batch_size`是可以通过外部随时更改的，如果使用生成器函数定义，那会导致相当复杂的代码。这时，我们可以通过定义一个类，并且实现类中的`__iter__`方法即可"
   ]
  },
  {
   "cell_type": "code",
   "execution_count": 3,
   "metadata": {},
   "outputs": [],
   "source": [
    "class BatchIter:\n",
    "    def __init__(self, data, batch_size=3):\n",
    "        self.data = data\n",
    "        self.batch_size = batch_size\n",
    "        \n",
    "    def __iter__(self):\n",
    "        size = 0\n",
    "        results = []\n",
    "        for e in self.data:\n",
    "            results.append(e)\n",
    "            size = size + 1\n",
    "            if size == self.batch_size:\n",
    "                yield results\n",
    "                results = []\n",
    "                size = 0\n",
    "        if results:\n",
    "            yield results"
   ]
  },
  {
   "cell_type": "markdown",
   "metadata": {},
   "source": [
    "我们希望每次返回一个\\[1, 3\\]之间随机数量的元素，我们可以通过更改对象`batch_size`的方法来实现"
   ]
  },
  {
   "cell_type": "code",
   "execution_count": 4,
   "metadata": {},
   "outputs": [
    {
     "name": "stdout",
     "output_type": "stream",
     "text": [
      "batch_size:2, result: [0, 1]\n",
      "batch_size:2, result: [2, 3]\n",
      "batch_size:3, result: [4, 5, 6]\n",
      "batch_size:2, result: [7, 8]\n",
      "batch_size:3, result: [9, 10, 11]\n",
      "batch_size:1, result: [12]\n",
      "batch_size:1, result: [13]\n",
      "batch_size:1, result: [14]\n",
      "batch_size:1, result: [15]\n",
      "batch_size:3, result: [16, 17, 18]\n",
      "batch_size:1, result: [19]\n"
     ]
    }
   ],
   "source": [
    "import random\n",
    "\n",
    "batch_size = random.randint(1, 3)\n",
    "batch_iter = BatchIter(range(20), batch_size)\n",
    "for batch in batch_iter:\n",
    "    print('batch_size:{}, result: {}'.format(batch_size, batch))\n",
    "    batch_size = random.randint(1, 3)\n",
    "    batch_iter.batch_size = batch_size"
   ]
  },
  {
   "cell_type": "markdown",
   "metadata": {},
   "source": [
    "---\n",
    "<a name='islice'>"
   ]
  },
  {
   "cell_type": "markdown",
   "metadata": {},
   "source": [
    "### 迭代器做切片"
   ]
  },
  {
   "cell_type": "markdown",
   "metadata": {},
   "source": [
    "普通的切片操作对迭代器并不起作用"
   ]
  },
  {
   "cell_type": "code",
   "execution_count": 5,
   "metadata": {},
   "outputs": [],
   "source": [
    "# 定义一个简单的生成器函数\n",
    "def my_iter(l):\n",
    "    for e in l:\n",
    "        yield e\n",
    "\n",
    "it = my_iter([1, 2, 3, 4, 5])\n",
    "# ERROR\n",
    "# it[1:3]"
   ]
  },
  {
   "cell_type": "markdown",
   "metadata": {},
   "source": [
    "这时，我们可以使用`itertools`模块中的`islice`函数，`islice`将会产生一个切片范围内的迭代器。"
   ]
  },
  {
   "cell_type": "code",
   "execution_count": 6,
   "metadata": {},
   "outputs": [
    {
     "name": "stdout",
     "output_type": "stream",
     "text": [
      "2\n",
      "3\n"
     ]
    }
   ],
   "source": [
    "from itertools import islice\n",
    "\n",
    "for e in islice(it, 1, 3):\n",
    "    print(e)"
   ]
  },
  {
   "cell_type": "markdown",
   "metadata": {},
   "source": [
    "不过需要注意的是，`islice`会消耗原迭代器的数据"
   ]
  },
  {
   "cell_type": "code",
   "execution_count": 7,
   "metadata": {},
   "outputs": [
    {
     "data": {
      "text/plain": [
       "4"
      ]
     },
     "execution_count": 7,
     "metadata": {},
     "output_type": "execute_result"
    }
   ],
   "source": [
    "# 对it调用next的结果会是切片后的数值，即4\n",
    "next(it)"
   ]
  }
 ],
 "metadata": {
  "kernelspec": {
   "display_name": "Python 3",
   "language": "python",
   "name": "python3"
  },
  "language_info": {
   "codemirror_mode": {
    "name": "ipython",
    "version": 3
   },
   "file_extension": ".py",
   "mimetype": "text/x-python",
   "name": "python",
   "nbconvert_exporter": "python",
   "pygments_lexer": "ipython3",
   "version": "3.6.3"
  }
 },
 "nbformat": 4,
 "nbformat_minor": 2
}
