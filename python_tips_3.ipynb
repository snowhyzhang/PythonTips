{
 "cells": [
  {
   "cell_type": "markdown",
   "metadata": {},
   "source": [
    "# Python Tips 3"
   ]
  },
  {
   "cell_type": "markdown",
   "metadata": {},
   "source": [
    "author@snowhyzhang"
   ]
  },
  {
   "cell_type": "markdown",
   "metadata": {},
   "source": [
    "- [合并多个`dict`](#merge_dict)\n",
    "- [数值取整](#round_value)\n",
    "- [精确执行小数计算](#run_float)\n",
    "- [分数运算](#run_fraction)"
   ]
  },
  {
   "cell_type": "markdown",
   "metadata": {},
   "source": [
    "---\n",
    "<a name='merge_dict'>"
   ]
  },
  {
   "cell_type": "markdown",
   "metadata": {},
   "source": [
    "## 合并多个dict"
   ]
  },
  {
   "cell_type": "markdown",
   "metadata": {},
   "source": [
    "如果需要同时迭代多个`dict`进行操作，我们可以使用`update`方法合并多个`dict`后进行迭代，但是这样做的话，不但一不小心就容易破坏原来`dict`的结构，而且也比较麻烦，这时可以使用`collections`中的`ChainMap`来完成这个操作"
   ]
  },
  {
   "cell_type": "code",
   "execution_count": 1,
   "metadata": {},
   "outputs": [
    {
     "name": "stdout",
     "output_type": "stream",
     "text": [
      "a -1\n",
      "y 2\n",
      "b -2\n",
      "z 3\n",
      "x 1\n"
     ]
    }
   ],
   "source": [
    "from collections import ChainMap\n",
    "\n",
    "d1 = {'x': 1, 'y': 2}\n",
    "d2 = {'x': 10, 'z': 3}\n",
    "d3 = {'a': -1, 'b': -2}\n",
    "cm = ChainMap(d1, d2, d3)\n",
    "for k in cm:\n",
    "    print(k, cm[k])"
   ]
  },
  {
   "cell_type": "markdown",
   "metadata": {},
   "source": [
    "`ChainMap`只是在底层简单的维护了一个映射关系列表，因此不用担心原数据会被破坏  \n",
    "当有`键`冲突的时候，会总采用第一个`dict`中所对应的`值`  "
   ]
  },
  {
   "cell_type": "markdown",
   "metadata": {},
   "source": [
    "---\n",
    "<a name='round_value'>"
   ]
  },
  {
   "cell_type": "markdown",
   "metadata": {},
   "source": [
    "## 数值取整"
   ]
  },
  {
   "cell_type": "markdown",
   "metadata": {},
   "source": [
    "想要将一个`float`类型的数值取整到固定的小数位，可以使用`round`函数，并指定保留的小数位"
   ]
  },
  {
   "cell_type": "code",
   "execution_count": 2,
   "metadata": {},
   "outputs": [
    {
     "name": "stdout",
     "output_type": "stream",
     "text": [
      "保留3位小数: 3.142\n",
      "取整: 3\n"
     ]
    }
   ],
   "source": [
    "x = 3.1415926\n",
    "\n",
    "print('保留3位小数:', round(x, 3))\n",
    "print('取整:', round(x))"
   ]
  },
  {
   "cell_type": "markdown",
   "metadata": {},
   "source": [
    "除了四舍五入的取整方式，也可以进行向上取整和向下取整，我们可以使用`math`模块中，`ceil`和`floor`进行操作"
   ]
  },
  {
   "cell_type": "code",
   "execution_count": 3,
   "metadata": {},
   "outputs": [
    {
     "name": "stdout",
     "output_type": "stream",
     "text": [
      "向上取整:  4\n",
      "向下取整:  3\n"
     ]
    }
   ],
   "source": [
    "import math\n",
    "\n",
    "print('向上取整: ', math.ceil(x))\n",
    "print('向下取整: ', math.floor(x))"
   ]
  },
  {
   "cell_type": "markdown",
   "metadata": {},
   "source": [
    "除了这些常规的取整操作外，有时候也会遇到一些特殊的需求，例如将一个整数向上“取整到”最近的5的倍数，例如1 -> 5, 12 -> 15，我们可以通过向上取整再乘以5来实现"
   ]
  },
  {
   "cell_type": "code",
   "execution_count": 4,
   "metadata": {},
   "outputs": [
    {
     "name": "stdout",
     "output_type": "stream",
     "text": [
      "1 -> 5\n",
      "12 -> 15\n"
     ]
    }
   ],
   "source": [
    "def my_round(x):\n",
    "    return int(5 * math.ceil(x / 5))\n",
    "\n",
    "print('1 ->', my_round(1))\n",
    "print('12 ->', my_round(12))"
   ]
  },
  {
   "cell_type": "markdown",
   "metadata": {},
   "source": [
    "---\n",
    "<a name='run_float'>"
   ]
  },
  {
   "cell_type": "markdown",
   "metadata": {},
   "source": [
    "## 精确执行小数计算"
   ]
  },
  {
   "cell_type": "markdown",
   "metadata": {},
   "source": [
    "对`float`类型进行计算时，有一个很大的问题就是它们无法精确表达出所有十进制小数位，例如"
   ]
  },
  {
   "cell_type": "code",
   "execution_count": 5,
   "metadata": {},
   "outputs": [
    {
     "data": {
      "text/plain": [
       "5.300000000000001"
      ]
     },
     "execution_count": 5,
     "metadata": {},
     "output_type": "execute_result"
    }
   ],
   "source": [
    "a, b = 3.1, 2.2\n",
    "a + b"
   ]
  },
  {
   "cell_type": "code",
   "execution_count": 6,
   "metadata": {},
   "outputs": [
    {
     "data": {
      "text/plain": [
       "False"
      ]
     },
     "execution_count": 6,
     "metadata": {},
     "output_type": "execute_result"
    }
   ],
   "source": [
    "(a + b) == 5.3"
   ]
  },
  {
   "cell_type": "markdown",
   "metadata": {},
   "source": [
    "这和底层的CPU运算有关系，有时这对于数值精确度要求高的计算是无法接受的，因此可以在牺牲一定性能的情况下，使用`decimal`模块来得到更高的精度"
   ]
  },
  {
   "cell_type": "code",
   "execution_count": 7,
   "metadata": {},
   "outputs": [
    {
     "data": {
      "text/plain": [
       "Decimal('5.3')"
      ]
     },
     "execution_count": 7,
     "metadata": {},
     "output_type": "execute_result"
    }
   ],
   "source": [
    "from decimal import Decimal\n",
    "\n",
    "a = Decimal('3.1')\n",
    "b = Decimal('2.2')\n",
    "a + b"
   ]
  },
  {
   "cell_type": "code",
   "execution_count": 8,
   "metadata": {},
   "outputs": [
    {
     "data": {
      "text/plain": [
       "True"
      ]
     },
     "execution_count": 8,
     "metadata": {},
     "output_type": "execute_result"
    }
   ],
   "source": [
    "a + b == Decimal('5.3')"
   ]
  },
  {
   "cell_type": "markdown",
   "metadata": {},
   "source": [
    "需要注意的时候，`Decimal`中数字以字符串的形式来指定"
   ]
  },
  {
   "cell_type": "markdown",
   "metadata": {},
   "source": [
    "`Decimal`同时有着非常多且复杂的配置选项，如果需要使用`Decimal`，例如在一些金融等业务中，微小的误差可能会引起很大的问题，可以查看`Decimal`模块的帮助文档"
   ]
  },
  {
   "cell_type": "markdown",
   "metadata": {},
   "source": [
    "---\n",
    "<a name='run_fraction'>"
   ]
  },
  {
   "cell_type": "markdown",
   "metadata": {},
   "source": [
    "## 分数运算"
   ]
  },
  {
   "cell_type": "markdown",
   "metadata": {},
   "source": [
    "除了上小节中的精确执行小数计算，我们还可以使用`fractions`模块进行分数运算"
   ]
  },
  {
   "cell_type": "code",
   "execution_count": 9,
   "metadata": {},
   "outputs": [
    {
     "data": {
      "text/plain": [
       "(Fraction(7, 12), Fraction(1, 12))"
      ]
     },
     "execution_count": 9,
     "metadata": {},
     "output_type": "execute_result"
    }
   ],
   "source": [
    "from fractions import Fraction\n",
    "\n",
    "a = Fraction(1, 3)\n",
    "b = Fraction(1, 4)\n",
    "r_add = a + b\n",
    "r_multiple = a * b\n",
    "r_add, r_multiple"
   ]
  },
  {
   "cell_type": "markdown",
   "metadata": {},
   "source": [
    "将结果转为`float`类型"
   ]
  },
  {
   "cell_type": "code",
   "execution_count": 10,
   "metadata": {},
   "outputs": [
    {
     "data": {
      "text/plain": [
       "(0.5833333333333334, 0.08333333333333333)"
      ]
     },
     "execution_count": 10,
     "metadata": {},
     "output_type": "execute_result"
    }
   ],
   "source": [
    "float(r_add), float(r_multiple)"
   ]
  }
 ],
 "metadata": {
  "kernelspec": {
   "display_name": "Python 3",
   "language": "python",
   "name": "python3"
  },
  "language_info": {
   "codemirror_mode": {
    "name": "ipython",
    "version": 3
   },
   "file_extension": ".py",
   "mimetype": "text/x-python",
   "name": "python",
   "nbconvert_exporter": "python",
   "pygments_lexer": "ipython3",
   "version": "3.6.3"
  }
 },
 "nbformat": 4,
 "nbformat_minor": 2
}
