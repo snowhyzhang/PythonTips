{
 "cells": [
  {
   "cell_type": "markdown",
   "metadata": {},
   "source": [
    "# Python Tips 2"
   ]
  },
  {
   "cell_type": "markdown",
   "metadata": {},
   "source": [
    "author@snowhyzhang"
   ]
  },
  {
   "cell_type": "markdown",
   "metadata": {},
   "source": [
    "- [sorted函数按照指定值排序](#sorted_key)\n",
    "- [对list中元素计数](#list_count)\n",
    "- [保留最后N个元素](#retain_last_n)\n",
    "- [反转list](#reverse_list)"
   ]
  },
  {
   "cell_type": "markdown",
   "metadata": {},
   "source": [
    "---\n",
    "<a name='sorted_key'></a>"
   ]
  },
  {
   "cell_type": "markdown",
   "metadata": {},
   "source": [
    "## sorted函数按照指定值排序"
   ]
  },
  {
   "cell_type": "markdown",
   "metadata": {},
   "source": [
    "Python中的`sorted`函数可以对进行排序"
   ]
  },
  {
   "cell_type": "code",
   "execution_count": 1,
   "metadata": {},
   "outputs": [
    {
     "data": {
      "text/plain": [
       "[1, 2, 3, 4, 5]"
      ]
     },
     "execution_count": 1,
     "metadata": {},
     "output_type": "execute_result"
    }
   ],
   "source": [
    "l = [5, 4, 1, 2, 3]\n",
    "l = sorted(l)\n",
    "l"
   ]
  },
  {
   "cell_type": "markdown",
   "metadata": {},
   "source": [
    "如果`list`中对象是`dict`并且想通过`dict`的公共键来排序，那么可以将`sorted`函数中的`key`参数指定为公共键的值  \n",
    "例如有5个`dict`组成`list`的数据，其中每个`dict`包含`name`和`id`2个`key`，通过`id`进行排序"
   ]
  },
  {
   "cell_type": "code",
   "execution_count": 2,
   "metadata": {},
   "outputs": [
    {
     "data": {
      "text/plain": [
       "[{'id': 1, 'name': 'apple'},\n",
       " {'id': 2, 'name': 'bag'},\n",
       " {'id': 3, 'name': 'cat'},\n",
       " {'id': 4, 'name': 'dog'},\n",
       " {'id': 5, 'name': 'egg'}]"
      ]
     },
     "execution_count": 2,
     "metadata": {},
     "output_type": "execute_result"
    }
   ],
   "source": [
    "l = [{'name': 'dog', 'id': 4}, {'name': 'bag', 'id': 2}, {'name': 'apple', 'id': 1}, \n",
    "     {'name': 'cat', 'id': 3}, {'name': 'egg', 'id': 5}]\n",
    "l = sorted(l, key=lambda x: x['id'])\n",
    "l"
   ]
  },
  {
   "cell_type": "markdown",
   "metadata": {},
   "source": [
    "这里传入`key`的参数是`lambda`表达式，表示取`id`的`value`来进行排序，我们也可以调用`operator`模块中的`itemgetter`来实现"
   ]
  },
  {
   "cell_type": "code",
   "execution_count": 3,
   "metadata": {},
   "outputs": [],
   "source": [
    "from operator import itemgetter\n",
    "\n",
    "l = [{'name': 'dog', 'id': 4}, {'name': 'bag', 'id': 2}, {'name': 'apple', 'id': 1}, \n",
    "     {'name': 'cat', 'id': 3}, {'name': 'egg', 'id': 5}, {'name': 'flag', 'id': 6}]"
   ]
  },
  {
   "cell_type": "code",
   "execution_count": 4,
   "metadata": {},
   "outputs": [
    {
     "name": "stdout",
     "output_type": "stream",
     "text": [
      "1.75 µs ± 35.4 ns per loop (mean ± std. dev. of 7 runs, 1000000 loops each)\n"
     ]
    }
   ],
   "source": [
    "%timeit sorted(l, key=lambda x: x['id'])"
   ]
  },
  {
   "cell_type": "code",
   "execution_count": 5,
   "metadata": {},
   "outputs": [
    {
     "name": "stdout",
     "output_type": "stream",
     "text": [
      "1.48 µs ± 31.3 ns per loop (mean ± std. dev. of 7 runs, 1000000 loops each)\n"
     ]
    }
   ],
   "source": [
    "%timeit sorted(l, key=itemgetter('id'))"
   ]
  },
  {
   "cell_type": "markdown",
   "metadata": {},
   "source": [
    "执行效率上，使用`itemgetter`的速度更为快些，因此考虑到性能的话，推荐使用`itemgetter`"
   ]
  },
  {
   "cell_type": "markdown",
   "metadata": {},
   "source": [
    "同样，`key`参数也可以用于对按照`类`中的某个属性进行排序  \n",
    "例如创建一个User类，其中有`name`和`user_id`两个属性，创建包含5个User对象的列表，并按照`user_id`对列表进行排序"
   ]
  },
  {
   "cell_type": "code",
   "execution_count": 6,
   "metadata": {},
   "outputs": [
    {
     "data": {
      "text/plain": [
       "[name@dog\tuser_id@4,\n",
       " name@bag\tuser_id@2,\n",
       " name@apple\tuser_id@1,\n",
       " name@cat\tuser_id@3,\n",
       " name@egg\tuser_id@5]"
      ]
     },
     "execution_count": 6,
     "metadata": {},
     "output_type": "execute_result"
    }
   ],
   "source": [
    "class User:\n",
    "    def __init__(self, name, user_id):\n",
    "        self.name = name\n",
    "        self.user_id = user_id\n",
    "    \n",
    "    # 打印类信息\n",
    "    def __repr__(self):\n",
    "        return 'name@{}\\tuser_id@{}'.format(self.name, self.user_id)\n",
    "\n",
    "l = [User('dog', 4), User('bag', 2), User('apple', 1), User('cat', 3), User('egg', 5)]\n",
    "l"
   ]
  },
  {
   "cell_type": "code",
   "execution_count": 7,
   "metadata": {},
   "outputs": [
    {
     "data": {
      "text/plain": [
       "[name@apple\tuser_id@1,\n",
       " name@bag\tuser_id@2,\n",
       " name@cat\tuser_id@3,\n",
       " name@dog\tuser_id@4,\n",
       " name@egg\tuser_id@5]"
      ]
     },
     "execution_count": 7,
     "metadata": {},
     "output_type": "execute_result"
    }
   ],
   "source": [
    "l = sorted(l, key=lambda x: x.user_id)\n",
    "l"
   ]
  },
  {
   "cell_type": "markdown",
   "metadata": {},
   "source": [
    "同样，也可以使用`operator`模块中的`attrgetter`"
   ]
  },
  {
   "cell_type": "code",
   "execution_count": 8,
   "metadata": {},
   "outputs": [
    {
     "data": {
      "text/plain": [
       "[name@apple\tuser_id@1,\n",
       " name@bag\tuser_id@2,\n",
       " name@cat\tuser_id@3,\n",
       " name@dog\tuser_id@4,\n",
       " name@egg\tuser_id@5]"
      ]
     },
     "execution_count": 8,
     "metadata": {},
     "output_type": "execute_result"
    }
   ],
   "source": [
    "from operator import attrgetter\n",
    "\n",
    "l = [User('dog', 4), User('bag', 2), User('apple', 1), User('cat', 3), User('egg', 5)]\n",
    "l = sorted(l, key=attrgetter('user_id'))\n",
    "l"
   ]
  },
  {
   "cell_type": "markdown",
   "metadata": {},
   "source": [
    "---\n",
    "<a name='list_count'></a>"
   ]
  },
  {
   "cell_type": "markdown",
   "metadata": {},
   "source": [
    "## 对list中元素计数"
   ]
  },
  {
   "cell_type": "markdown",
   "metadata": {},
   "source": [
    "Python的`collections`模块中`Counter`类可以帮助我们实现对于`list`中元素进行计数"
   ]
  },
  {
   "cell_type": "code",
   "execution_count": 9,
   "metadata": {},
   "outputs": [
    {
     "data": {
      "text/plain": [
       "Counter({'blue': 3, 'green': 6, 'pink': 4, 'purple': 2, 'red': 4, 'yellow': 1})"
      ]
     },
     "execution_count": 9,
     "metadata": {},
     "output_type": "execute_result"
    }
   ],
   "source": [
    "import random\n",
    "from collections import Counter\n",
    "\n",
    "l = [random.choice(['red', 'blue', 'green', 'yellow', 'pink', 'purple']) for _ in range(20)]\n",
    "color_count = Counter(l)\n",
    "color_count"
   ]
  },
  {
   "cell_type": "markdown",
   "metadata": {},
   "source": [
    "我们可以利用上节中提到的`sorted`函数对`color_count`按出现的次数进行排序"
   ]
  },
  {
   "cell_type": "code",
   "execution_count": 10,
   "metadata": {},
   "outputs": [
    {
     "name": "stdout",
     "output_type": "stream",
     "text": [
      "# of color:\n",
      "green >= red >= pink >= blue >= purple >= yellow\n"
     ]
    }
   ],
   "source": [
    "l = sorted(color_count.items(), key=lambda x: x[1], reverse=True)\n",
    "print('# of color:')\n",
    "print(*[color for color, _ in l], sep=' >= ')"
   ]
  },
  {
   "cell_type": "markdown",
   "metadata": {},
   "source": [
    "`Counter`类还提供了一个`most_common`函数方便选取出现次数排前n个的元素"
   ]
  },
  {
   "cell_type": "code",
   "execution_count": 11,
   "metadata": {},
   "outputs": [
    {
     "data": {
      "text/plain": [
       "[('green', 6)]"
      ]
     },
     "execution_count": 11,
     "metadata": {},
     "output_type": "execute_result"
    }
   ],
   "source": [
    "color_count.most_common(1)"
   ]
  },
  {
   "cell_type": "markdown",
   "metadata": {},
   "source": [
    "---\n",
    "<a name='retain_last_n'></a>"
   ]
  },
  {
   "cell_type": "markdown",
   "metadata": {},
   "source": [
    "## 保留最后的N个元素"
   ]
  },
  {
   "cell_type": "markdown",
   "metadata": {},
   "source": [
    "Python的`collections`模块还有个`deque`的容器也非常有用，可以通过设置`maxlen`参数来保留最后加入的N个元素"
   ]
  },
  {
   "cell_type": "code",
   "execution_count": 12,
   "metadata": {},
   "outputs": [
    {
     "data": {
      "text/plain": [
       "deque([5, 6, 7, 8, 9])"
      ]
     },
     "execution_count": 12,
     "metadata": {},
     "output_type": "execute_result"
    }
   ],
   "source": [
    "from collections import deque\n",
    "\n",
    "dq = deque(maxlen=5)\n",
    "for i in range(10):\n",
    "    dq.append(i)\n",
    "dq"
   ]
  },
  {
   "cell_type": "markdown",
   "metadata": {},
   "source": [
    "---\n",
    "<a name='reverse_list'></a>"
   ]
  },
  {
   "cell_type": "markdown",
   "metadata": {},
   "source": [
    "## 反转list"
   ]
  },
  {
   "cell_type": "markdown",
   "metadata": {},
   "source": [
    "`list`中常用的反转方法是设置步长为-1，对list进行反转"
   ]
  },
  {
   "cell_type": "code",
   "execution_count": 13,
   "metadata": {},
   "outputs": [
    {
     "data": {
      "text/plain": [
       "[10, 9, 8, 7, 6, 5, 4, 3, 2, 1]"
      ]
     },
     "execution_count": 13,
     "metadata": {},
     "output_type": "execute_result"
    }
   ],
   "source": [
    "l = [1, 2, 3, 4, 5, 6, 7, 8, 9, 10]\n",
    "l_rev = l[::-1]\n",
    "l_rev"
   ]
  },
  {
   "cell_type": "markdown",
   "metadata": {},
   "source": [
    "也可以使用`reversed`来生成一个反向的迭代器"
   ]
  },
  {
   "cell_type": "code",
   "execution_count": 14,
   "metadata": {},
   "outputs": [
    {
     "name": "stdout",
     "output_type": "stream",
     "text": [
      "10 9 8 7 6 5 4 3 2 1 "
     ]
    }
   ],
   "source": [
    "for e in reversed(l):\n",
    "    print(e, end=' ')"
   ]
  }
 ],
 "metadata": {
  "kernelspec": {
   "display_name": "Python 3",
   "language": "python",
   "name": "python3"
  },
  "language_info": {
   "codemirror_mode": {
    "name": "ipython",
    "version": 3
   },
   "file_extension": ".py",
   "mimetype": "text/x-python",
   "name": "python",
   "nbconvert_exporter": "python",
   "pygments_lexer": "ipython3",
   "version": "3.6.3"
  }
 },
 "nbformat": 4,
 "nbformat_minor": 2
}
