{
 "cells": [
  {
   "cell_type": "markdown",
   "metadata": {},
   "source": [
    "# Python Tip 1"
   ]
  },
  {
   "cell_type": "markdown",
   "metadata": {},
   "source": [
    "author@snowhyzhang"
   ]
  },
  {
   "cell_type": "markdown",
   "metadata": {},
   "source": [
    "- [交换变量值](#var_change)\n",
    "- [压包与解包](#pack_unpack)\n",
    "- [最大或者最小的N个元素](#largest_smallest_n)"
   ]
  },
  {
   "cell_type": "markdown",
   "metadata": {},
   "source": [
    "---\n",
    "<a name='var_change'></a>"
   ]
  },
  {
   "cell_type": "markdown",
   "metadata": {},
   "source": [
    "## 交换变量值"
   ]
  },
  {
   "cell_type": "markdown",
   "metadata": {},
   "source": [
    "Python中实现变量值的互换不需要设置临时变量"
   ]
  },
  {
   "cell_type": "code",
   "execution_count": 1,
   "metadata": {},
   "outputs": [
    {
     "name": "stdout",
     "output_type": "stream",
     "text": [
      "1 0\n"
     ]
    }
   ],
   "source": [
    "x = 0\n",
    "y = 1\n",
    "x, y = y, x\n",
    "print(x, y)"
   ]
  },
  {
   "cell_type": "markdown",
   "metadata": {},
   "source": [
    "其原理是可以将任何序列，比如`list`、`tuple`，通过赋值来分解为单独的变量，例如上面等号右边的 **y, x** 就组成了一个`tuple`  \n",
    "我们也可以将`x`和`y`显式的组成一个`list`，进行交换"
   ]
  },
  {
   "cell_type": "code",
   "execution_count": 2,
   "metadata": {},
   "outputs": [
    {
     "data": {
      "text/plain": [
       "[0, 1]"
      ]
     },
     "execution_count": 2,
     "metadata": {},
     "output_type": "execute_result"
    }
   ],
   "source": [
    "l = [y, x]\n",
    "l"
   ]
  },
  {
   "cell_type": "markdown",
   "metadata": {},
   "source": [
    "再赋值给`y`和`x`，这样可以完成变量值的交换"
   ]
  },
  {
   "cell_type": "code",
   "execution_count": 3,
   "metadata": {},
   "outputs": [
    {
     "name": "stdout",
     "output_type": "stream",
     "text": [
      "1 0\n"
     ]
    }
   ],
   "source": [
    "y, x = l\n",
    "print(x, y)"
   ]
  },
  {
   "cell_type": "markdown",
   "metadata": {},
   "source": [
    "这种将序列进行分解的操作，有时候会有很多用处，例如将`list`中的元素赋值给`x`、`y`和`z`"
   ]
  },
  {
   "cell_type": "code",
   "execution_count": 4,
   "metadata": {},
   "outputs": [
    {
     "name": "stdout",
     "output_type": "stream",
     "text": [
      "0 1 2\n"
     ]
    }
   ],
   "source": [
    "x, y, z = [0, 1, 2]\n",
    "print(x, y, z)"
   ]
  },
  {
   "cell_type": "markdown",
   "metadata": {},
   "source": [
    "---\n",
    "<a name='pack_unpack'></a>"
   ]
  },
  {
   "cell_type": "markdown",
   "metadata": {},
   "source": [
    "## 压包与解包"
   ]
  },
  {
   "cell_type": "markdown",
   "metadata": {},
   "source": [
    "压包和解包是Python中一个常用的功能"
   ]
  },
  {
   "cell_type": "markdown",
   "metadata": {},
   "source": [
    "- 序列解包"
   ]
  },
  {
   "cell_type": "markdown",
   "metadata": {},
   "source": [
    "在交换变量值小节中已经看到了序列解包的功能，除了将元素赋值给变量外，我们还可以`*`来分解任意数量的元素"
   ]
  },
  {
   "cell_type": "code",
   "execution_count": 5,
   "metadata": {},
   "outputs": [
    {
     "name": "stdout",
     "output_type": "stream",
     "text": [
      "Mary 12\n",
      "['1368888888', '1368888886']\n"
     ]
    }
   ],
   "source": [
    "person_info = ['Mary', 12, '1368888888', '1368888886']\n",
    "name, user_id, *phones = person_info\n",
    "print(name, user_id)\n",
    "print(phones)"
   ]
  },
  {
   "cell_type": "markdown",
   "metadata": {},
   "source": [
    "用户信息中的姓名、用户编号和电话号码被解包出来了，其中号码可能有多个，通过`*`我们可以将任意多个，包括空的情况赋值给`phones`"
   ]
  },
  {
   "cell_type": "markdown",
   "metadata": {},
   "source": [
    "通过这个功能，可以很方便的去掉最低和最高分后，来求平均值"
   ]
  },
  {
   "cell_type": "code",
   "execution_count": 6,
   "metadata": {},
   "outputs": [
    {
     "name": "stdout",
     "output_type": "stream",
     "text": [
      "[0.09, 0.1, 0.28, 0.3, 0.31, 0.53, 0.65, 0.65, 0.73, 0.74, 0.9, 0.94]\n",
      "avg score: 0.519\n"
     ]
    }
   ],
   "source": [
    "import random\n",
    "\n",
    "scores = []\n",
    "for _ in range(12):\n",
    "    scores.append(round(random.uniform(0, 1), 2))\n",
    "scores.sort()\n",
    "print(scores)\n",
    "\n",
    "highest_score, *middles, lowest_score = scores\n",
    "print('avg score: {}'.format(sum(middles) / len(middles)))"
   ]
  },
  {
   "cell_type": "markdown",
   "metadata": {},
   "source": [
    "- 函数中压包与解包参数"
   ]
  },
  {
   "cell_type": "markdown",
   "metadata": {},
   "source": [
    "经常可以看到很多参数是以 **\\*args, \\*\\*kwargs** 作为参数的函数，这样做就是利用了Python的压包与解包功能"
   ]
  },
  {
   "cell_type": "code",
   "execution_count": 7,
   "metadata": {},
   "outputs": [
    {
     "name": "stdout",
     "output_type": "stream",
     "text": [
      "(1, 2, 3)\n",
      "first arg:  1\n"
     ]
    }
   ],
   "source": [
    "def f(*args):\n",
    "    print(args)\n",
    "    print('first arg: ', args[0])\n",
    "    \n",
    "f(1, 2, 3)"
   ]
  },
  {
   "cell_type": "markdown",
   "metadata": {},
   "source": [
    "`*args`的功能就是将传入的参数，例如`1, 2, 3`打包成一个`tuple`作为参数传入函数中，注意，这里的参数是不加**关键字**的，参数中需要加入关键字的，则需要加入`**kwargs`参数"
   ]
  },
  {
   "cell_type": "code",
   "execution_count": 8,
   "metadata": {},
   "outputs": [
    {
     "name": "stdout",
     "output_type": "stream",
     "text": [
      "(1, 2)\n",
      "{'a': 10, 'b': 20}\n",
      "first arg:  1\n",
      "arg a: 10\n"
     ]
    }
   ],
   "source": [
    "def f2(*args, **kwargs):\n",
    "    print(args)\n",
    "    print(kwargs)\n",
    "    print('first arg: ', args[0])\n",
    "    print('arg a:', kwargs['a'])\n",
    "    \n",
    "f2(1, 2, a=10, b=20)"
   ]
  },
  {
   "cell_type": "markdown",
   "metadata": {},
   "source": [
    "`**kwargs`的作用是将关键字参数转为一个`dict`传入到函数中  \n",
    "这里，`args`和`kwargs`是可以换成其他名字，不过一般Python中约定俗成使用这两个变量名  "
   ]
  },
  {
   "cell_type": "markdown",
   "metadata": {},
   "source": [
    "如果将`list`直接作为参数传入，那么整个`list`会作为参数传入"
   ]
  },
  {
   "cell_type": "code",
   "execution_count": 9,
   "metadata": {},
   "outputs": [
    {
     "name": "stdout",
     "output_type": "stream",
     "text": [
      "([1, 2, 3],)\n",
      "first arg:  [1, 2, 3]\n"
     ]
    }
   ],
   "source": [
    "x = [1, 2, 3]\n",
    "f(x)"
   ]
  },
  {
   "cell_type": "markdown",
   "metadata": {},
   "source": [
    "可以在`list`参数前使用`*`进行解包，这时`list`中的每个元素会被解包，作为位置参数传入函数中"
   ]
  },
  {
   "cell_type": "code",
   "execution_count": 10,
   "metadata": {},
   "outputs": [
    {
     "name": "stdout",
     "output_type": "stream",
     "text": [
      "(1, 2, 3)\n",
      "first arg:  1\n"
     ]
    }
   ],
   "source": [
    "f(*x)"
   ]
  },
  {
   "cell_type": "markdown",
   "metadata": {},
   "source": [
    "同样使用在`dict`参数前使用`**`，这时`dict`中的每个键值对会被解包，会作为关键字参数传入函数中"
   ]
  },
  {
   "cell_type": "code",
   "execution_count": 11,
   "metadata": {},
   "outputs": [
    {
     "name": "stdout",
     "output_type": "stream",
     "text": [
      "(1, 2, 3)\n",
      "{'a': 100, 'b': 200}\n",
      "first arg:  1\n",
      "arg a: 100\n"
     ]
    }
   ],
   "source": [
    "y = {'a': 100, 'b': 200}\n",
    "f2(*x, **y)"
   ]
  },
  {
   "cell_type": "markdown",
   "metadata": {},
   "source": [
    "也可以传入多个`list`和`dict`，函数压包参数时会进行合并"
   ]
  },
  {
   "cell_type": "code",
   "execution_count": 12,
   "metadata": {},
   "outputs": [
    {
     "name": "stdout",
     "output_type": "stream",
     "text": [
      "(1, 2, 3, 10, 20, 30)\n",
      "{'x': -1, 'y': -2, 'a': 100, 'b': 200}\n",
      "first arg:  1\n",
      "arg a: 100\n"
     ]
    }
   ],
   "source": [
    "z = {'x': -1, 'y': -2}\n",
    "a = [10, 20, 30]\n",
    "f2(*x, *a, **z, **y)"
   ]
  },
  {
   "cell_type": "markdown",
   "metadata": {},
   "source": [
    "下面举两个在`format`和`zip`函数中使用的例子"
   ]
  },
  {
   "cell_type": "code",
   "execution_count": 13,
   "metadata": {},
   "outputs": [
    {
     "data": {
      "text/plain": [
       "'red-small: China-Shanghai'"
      ]
     },
     "execution_count": 13,
     "metadata": {},
     "output_type": "execute_result"
    }
   ],
   "source": [
    "d1 = {'color': 'red', 'size': 'small'}\n",
    "d2 = {'country': 'China', 'city': 'Shanghai'}\n",
    "cloth_type = '{color}-{size}: {country}-{city}'.format(**d1, **d2)\n",
    "cloth_type"
   ]
  },
  {
   "cell_type": "code",
   "execution_count": 18,
   "metadata": {},
   "outputs": [
    {
     "name": "stdout",
     "output_type": "stream",
     "text": [
      "1 4\n",
      "2 5\n",
      "3 6\n"
     ]
    }
   ],
   "source": [
    "l = [[1, 2, 3], [4, 5, 6]]\n",
    "for a, b in zip(*l):\n",
    "    # 这就相当于zip(l[0], zip[1])或者说zip([1, 2, 3], [4, 5, 6])\n",
    "    print(a, b)"
   ]
  },
  {
   "cell_type": "markdown",
   "metadata": {},
   "source": [
    "---\n",
    "<a name='largest_smallest_n'></a>"
   ]
  },
  {
   "cell_type": "markdown",
   "metadata": {},
   "source": [
    "## 最大或者最小的N个元素"
   ]
  },
  {
   "cell_type": "markdown",
   "metadata": {},
   "source": [
    "Python中使用`max`和`min`可以找到某个集合中最大或者最小的数"
   ]
  },
  {
   "cell_type": "code",
   "execution_count": 15,
   "metadata": {},
   "outputs": [
    {
     "name": "stdout",
     "output_type": "stream",
     "text": [
      "max@10 and min@1\n"
     ]
    }
   ],
   "source": [
    "l = [1, 2, 3, 4, 5, 6, 7, 8, 9, 10]\n",
    "print('max@{} and min@{}'.format(max(l), min(l)))"
   ]
  },
  {
   "cell_type": "markdown",
   "metadata": {},
   "source": [
    "但是想找出最大或者最小的N个元素，可以使用`heapq`模块中的`nlargest`和`nsmallest`函数"
   ]
  },
  {
   "cell_type": "code",
   "execution_count": 16,
   "metadata": {},
   "outputs": [
    {
     "name": "stdout",
     "output_type": "stream",
     "text": [
      "largest 3 num:  [10, 9, 8]\n",
      "smallest 3 num:  [1, 2, 3]\n"
     ]
    }
   ],
   "source": [
    "from heapq import nlargest, nsmallest\n",
    "\n",
    "print('largest 3 num: ', nlargest(3, l))\n",
    "print('smallest 3 num: ', nsmallest(3, l))"
   ]
  },
  {
   "cell_type": "markdown",
   "metadata": {},
   "source": [
    "如果经常对同一序列需要寻找最大或者最小的N个元素，考虑先将序列排序，这样做的话，效率会更高"
   ]
  }
 ],
 "metadata": {
  "kernelspec": {
   "display_name": "Python 3",
   "language": "python",
   "name": "python3"
  },
  "language_info": {
   "codemirror_mode": {
    "name": "ipython",
    "version": 3
   },
   "file_extension": ".py",
   "mimetype": "text/x-python",
   "name": "python",
   "nbconvert_exporter": "python",
   "pygments_lexer": "ipython3",
   "version": "3.6.3"
  }
 },
 "nbformat": 4,
 "nbformat_minor": 2
}
