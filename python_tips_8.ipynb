{
 "cells": [
  {
   "cell_type": "markdown",
   "metadata": {},
   "source": [
    "# Python Tips 8"
   ]
  },
  {
   "cell_type": "markdown",
   "metadata": {},
   "source": [
    "author@snowhyzhang"
   ]
  },
  {
   "cell_type": "markdown",
   "metadata": {},
   "source": [
    "- [调用函数时，输出额外信息](#decorator)\n",
    "- [保存额外环境变量的函数](#closeure)\n",
    "- [自定义实例的字符串表示](#repr)"
   ]
  },
  {
   "cell_type": "markdown",
   "metadata": {},
   "source": [
    "---\n",
    "<a name='decorator'></a>"
   ]
  },
  {
   "cell_type": "markdown",
   "metadata": {},
   "source": [
    "## 调用函数时，输出额外信息"
   ]
  },
  {
   "cell_type": "markdown",
   "metadata": {},
   "source": [
    "当我们定义好一个函数准备调用时，我们希望能够同时输出调用此函数时的输入参数。我们可以修改原来的函数，在其中增加输出输入参数的代码，但是改动源代码，或对已经封装好的函数做修改，这很麻烦甚至会引入新的bug。这时我们可以使用装饰器来实现"
   ]
  },
  {
   "cell_type": "code",
   "execution_count": 1,
   "metadata": {},
   "outputs": [
    {
     "name": "stdout",
     "output_type": "stream",
     "text": [
      "args:  (10,)\n",
      "kwargs:  {'y': 20}\n"
     ]
    },
    {
     "data": {
      "text/plain": [
       "231"
      ]
     },
     "execution_count": 1,
     "metadata": {},
     "output_type": "execute_result"
    }
   ],
   "source": [
    "def print_params(func):\n",
    "    def wrapper(*args, **kwargs):\n",
    "        print('args: ', args)\n",
    "        print('kwargs: ', kwargs)\n",
    "        return func(*args, **kwargs)\n",
    "    return wrapper\n",
    "\n",
    "@print_params\n",
    "def fun(x, y):\n",
    "    x = x + 1\n",
    "    y = x * y\n",
    "    return x + y\n",
    "\n",
    "fun(10, y=20)"
   ]
  },
  {
   "cell_type": "markdown",
   "metadata": {},
   "source": [
    "通过定义一个装饰器，我们不需要修改函数内部的代码，就能实现我们的需求"
   ]
  },
  {
   "cell_type": "markdown",
   "metadata": {},
   "source": [
    "---\n",
    "<a name='closeure'></a>"
   ]
  },
  {
   "cell_type": "markdown",
   "metadata": {},
   "source": [
    "## 保存额外环境变量的函数"
   ]
  },
  {
   "cell_type": "markdown",
   "metadata": {},
   "source": [
    "有时为了保存一些额外的状态，我们会定义一个只有一个方法的类，例如下面这段代码"
   ]
  },
  {
   "cell_type": "code",
   "execution_count": 2,
   "metadata": {},
   "outputs": [
    {
     "name": "stdout",
     "output_type": "stream",
     "text": [
      "hello, John! Welcome to New York\n",
      "hello, John! Welcome to Shanghai\n"
     ]
    }
   ],
   "source": [
    "class Welcome:\n",
    "    def __init__(self, name):\n",
    "        self.name = name\n",
    "        \n",
    "    def hello(self, place):\n",
    "        print('hello, {}! Welcome to {}'.format(self.name, place))\n",
    "        \n",
    "john = Welcome('John')\n",
    "\n",
    "john.hello('New York')\n",
    "john.hello('Shanghai')"
   ]
  },
  {
   "cell_type": "markdown",
   "metadata": {},
   "source": [
    "这种写法则稍显冗余，这时我们可以考虑使用闭包(`closeure`)将其转化为函数，这样可以简化我们代码，使代码看上去更为优雅"
   ]
  },
  {
   "cell_type": "code",
   "execution_count": 3,
   "metadata": {},
   "outputs": [
    {
     "name": "stdout",
     "output_type": "stream",
     "text": [
      "hello, John! Welcome to New York\n",
      "hello, John! Welcome to Shanghai\n"
     ]
    }
   ],
   "source": [
    "def welcome(name):\n",
    "    def hello(place):\n",
    "        print('hello, {}! Welcome to {}'.format(name, place))\n",
    "    return hello\n",
    "        \n",
    "john = welcome('John')\n",
    "\n",
    "john('New York')\n",
    "john('Shanghai')"
   ]
  },
  {
   "cell_type": "markdown",
   "metadata": {},
   "source": [
    "---\n",
    "<a name='repr'></a>"
   ]
  },
  {
   "cell_type": "markdown",
   "metadata": {},
   "source": [
    "## 自定义实例的字符串表示"
   ]
  },
  {
   "cell_type": "markdown",
   "metadata": {},
   "source": [
    "当我们实例化一个类后，其默认的字符串输出是这个实例的地址，这样的输出并没有任何有用的信息"
   ]
  },
  {
   "cell_type": "code",
   "execution_count": 4,
   "metadata": {},
   "outputs": [
    {
     "name": "stdout",
     "output_type": "stream",
     "text": [
      "<__main__.A object at 0x106e42400>\n"
     ]
    },
    {
     "data": {
      "text/plain": [
       "<__main__.A at 0x106e42400>"
      ]
     },
     "execution_count": 4,
     "metadata": {},
     "output_type": "execute_result"
    }
   ],
   "source": [
    "class A:\n",
    "    def __init__(self, a):\n",
    "        self.a = a\n",
    "    \n",
    "    def add(self, b):\n",
    "        return self.a + b\n",
    "    \n",
    "a = A(0)\n",
    "print(a)\n",
    "a"
   ]
  },
  {
   "cell_type": "markdown",
   "metadata": {},
   "source": [
    "我们可以通过修改`__str__`和`__repr__`这两个数据来自定义实例的输出，使其输出一些有用的信息"
   ]
  },
  {
   "cell_type": "code",
   "execution_count": 5,
   "metadata": {},
   "outputs": [
    {
     "name": "stdout",
     "output_type": "stream",
     "text": [
      "a@0\n"
     ]
    },
    {
     "data": {
      "text/plain": [
       "current a is 0"
      ]
     },
     "execution_count": 5,
     "metadata": {},
     "output_type": "execute_result"
    }
   ],
   "source": [
    "class A:\n",
    "    def __init__(self, a):\n",
    "        self.a = a\n",
    "    \n",
    "    def add(self, b):\n",
    "        return self.a + b\n",
    "    \n",
    "    def __str__(self):\n",
    "        return 'a@{}'.format(self.a)\n",
    "    \n",
    "    def __repr__(self):\n",
    "        return 'current a is {}'.format(self.a)\n",
    "    \n",
    "a = A(0)\n",
    "print(a)\n",
    "a"
   ]
  },
  {
   "cell_type": "markdown",
   "metadata": {},
   "source": [
    "在Python中，如果同时定义了`__str__`和`__repr__`，`print`方法则会使用`__str__`的输出结果，在Python控制台中会输出`__repr__`的输出结果；如果只定义了`__repr__`，则`print`方法和控制台都会输出`__repr__`的输出结果；如果只定义了`__str__`，`print`方法会输出`__str__`的输出结果，而控制则会输出默认的地址信息"
   ]
  }
 ],
 "metadata": {
  "kernelspec": {
   "display_name": "Python 3",
   "language": "python",
   "name": "python3"
  },
  "language_info": {
   "codemirror_mode": {
    "name": "ipython",
    "version": 3
   },
   "file_extension": ".py",
   "mimetype": "text/x-python",
   "name": "python",
   "nbconvert_exporter": "python",
   "pygments_lexer": "ipython3",
   "version": "3.6.3"
  }
 },
 "nbformat": 4,
 "nbformat_minor": 2
}
